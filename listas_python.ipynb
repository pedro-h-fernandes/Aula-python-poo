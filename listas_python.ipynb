{
  "nbformat": 4,
  "nbformat_minor": 0,
  "metadata": {
    "colab": {
      "provenance": [],
      "authorship_tag": "ABX9TyP+jDO7E56RH3ylY790RtWk",
      "include_colab_link": true
    },
    "kernelspec": {
      "name": "python3",
      "display_name": "Python 3"
    },
    "language_info": {
      "name": "python"
    }
  },
  "cells": [
    {
      "cell_type": "markdown",
      "metadata": {
        "id": "view-in-github",
        "colab_type": "text"
      },
      "source": [
        "<a href=\"https://colab.research.google.com/github/pedro-h-fernandes/Aula-python-poo/blob/main/listas_python.ipynb\" target=\"_parent\"><img src=\"https://colab.research.google.com/assets/colab-badge.svg\" alt=\"Open In Colab\"/></a>"
      ]
    },
    {
      "cell_type": "markdown",
      "source": [],
      "metadata": {
        "id": "IRpooVJ5oESX"
      }
    },
    {
      "cell_type": "code",
      "execution_count": null,
      "metadata": {
        "colab": {
          "base_uri": "https://localhost:8080/"
        },
        "id": "EBKtD7JXnBoi",
        "outputId": "7fdcdd75-cc2c-4b93-f374-a6810ffd9314"
      },
      "outputs": [
        {
          "output_type": "stream",
          "name": "stdout",
          "text": [
            "[]\n",
            "[1, 2, 3, 4, 5]\n",
            "['Alice', 'Bob', 'Charlie']\n",
            "[1, 'dois', 3.0, True]\n"
          ]
        }
      ],
      "source": [
        "lista_vazia = []\n",
        "numeros = [1, 2, 3, 4, 5]\n",
        "nomes = [\"Alice\", \"Bob\", \"Charlie\"]\n",
        "misturado = [1, \"dois\", 3.0, True]\n",
        "\n",
        "print(lista_vazia)\n",
        "print(numeros)\n",
        "print(nomes)\n",
        "print(misturado)"
      ]
    },
    {
      "cell_type": "code",
      "source": [
        "frutas = [\"Maçã\", \"Banana\", \"Morango\", \"Uva\", \"Pera\"]\n",
        "\n",
        "print(frutas[0])\n",
        "print(frutas[1])\n",
        "\n",
        "fatia = frutas[1:4] # Elementos do índice 1 ao 3 (não inclusivo)\n",
        "print(fatia) # Saída: ['Banana', 'Morango', 'Uva']"
      ],
      "metadata": {
        "colab": {
          "base_uri": "https://localhost:8080/"
        },
        "id": "LgPRi5gDoN7G",
        "outputId": "befd2bc8-0098-4eb4-9284-801d27d4d436"
      },
      "execution_count": null,
      "outputs": [
        {
          "output_type": "stream",
          "name": "stdout",
          "text": [
            "Maçã\n",
            "Banana\n",
            "['Banana', 'Morango', 'Uva']\n"
          ]
        }
      ]
    },
    {
      "cell_type": "code",
      "source": [
        "numeros = [1, 2, 3, 4, 5]\n",
        "print(numeros)\n",
        "numeros.append(6) # Adiciona 6 ao final da lista\n",
        "print(numeros)\n",
        "#numeros [1] = \"novo_valor\" # Modifica o valor no índice 1\n",
        "print(numeros)\n",
        "del numeros [2] # Remove o elemento no índice 2\n",
        "print(numeros)\n",
        "\n",
        "\n",
        "# Apresentação de algumas operações comuns em listas, como len(), sum(), sort(), count().\n",
        "\n",
        "tamanho = len(numeros)\n",
        "print(tamanho)\n",
        "soma = sum(numeros)\n",
        "print(sum)\n",
        "numeros.sort() # Ordena a lista\n",
        "print(numeros)\n",
        "quantidade_dois = misturado.count(\"dois\")\n",
        "print(quantidade_dois)"
      ],
      "metadata": {
        "colab": {
          "base_uri": "https://localhost:8080/"
        },
        "id": "M7AIAIbwouPw",
        "outputId": "26303fbe-8c6d-4f06-ecbf-d47f165db290"
      },
      "execution_count": null,
      "outputs": [
        {
          "output_type": "stream",
          "name": "stdout",
          "text": [
            "[1, 2, 3, 4, 5]\n",
            "[1, 2, 3, 4, 5, 6]\n",
            "[1, 2, 3, 4, 5, 6]\n",
            "[1, 2, 4, 5, 6]\n",
            "5\n",
            "<built-in function sum>\n",
            "[1, 2, 4, 5, 6]\n",
            "1\n"
          ]
        }
      ]
    }
  ]
}