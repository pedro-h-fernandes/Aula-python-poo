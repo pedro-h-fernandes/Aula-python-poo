{
  "nbformat": 4,
  "nbformat_minor": 0,
  "metadata": {
    "colab": {
      "provenance": [],
      "authorship_tag": "ABX9TyNkCyfXUpNt7w//TKrpAeXF",
      "include_colab_link": true
    },
    "kernelspec": {
      "name": "python3",
      "display_name": "Python 3"
    },
    "language_info": {
      "name": "python"
    }
  },
  "cells": [
    {
      "cell_type": "markdown",
      "metadata": {
        "id": "view-in-github",
        "colab_type": "text"
      },
      "source": [
        "<a href=\"https://colab.research.google.com/github/pedro-h-fernandes/Aula-python-poo/blob/main/lista_de_exercicio_(LISTAS).ipynb\" target=\"_parent\"><img src=\"https://colab.research.google.com/assets/colab-badge.svg\" alt=\"Open In Colab\"/></a>"
      ]
    },
    {
      "cell_type": "markdown",
      "source": [
        "1. **Crie uma lista com os números de 1 a 10 e exiba-a.**\n",
        "> Bloco com recuo\n",
        "\n"
      ],
      "metadata": {
        "id": "CTDmTtzIsg1T"
      }
    },
    {
      "cell_type": "code",
      "execution_count": null,
      "metadata": {
        "id": "8BtRNZzoq16G"
      },
      "outputs": [],
      "source": [
        "numeros = [1, 2, 3, 4, 5, 6, 7, 8, 9, 10]\n",
        "\n",
        "for num in numeros:\n",
        "  print(num)\n",
        "\n"
      ]
    },
    {
      "cell_type": "markdown",
      "source": [
        "2. **Crie uma lista vazia e adicione os números pares de 2 a 10 a ela**"
      ],
      "metadata": {
        "id": "3jDRnQWzsu96"
      }
    },
    {
      "cell_type": "code",
      "source": [
        "numeros = []\n",
        "\n",
        "for i in range(2, 11,2):\n",
        "  numeros.append(i)\n",
        "\n",
        "print(numeros)"
      ],
      "metadata": {
        "colab": {
          "base_uri": "https://localhost:8080/"
        },
        "id": "UFjBXHp8s1Q9",
        "outputId": "757f927d-f0c9-49dd-e60b-132b74914ceb"
      },
      "execution_count": 4,
      "outputs": [
        {
          "output_type": "stream",
          "name": "stdout",
          "text": [
            "[2, 4, 6, 8, 10]\n"
          ]
        }
      ]
    },
    {
      "cell_type": "markdown",
      "source": [],
      "metadata": {
        "id": "e8GgXrBet2Qb"
      }
    },
    {
      "cell_type": "markdown",
      "source": [
        "3. **Dada uma lista de números, calcule a soma de todos os elementos.**"
      ],
      "metadata": {
        "id": "jJY6XCP7t4cQ"
      }
    },
    {
      "cell_type": "code",
      "source": [
        "numeros = [1, 2, 6, 1, 23, 5, 67, 213,4, 46,7124, 21]\n",
        "\n",
        "print(sum(numeros))"
      ],
      "metadata": {
        "colab": {
          "base_uri": "https://localhost:8080/"
        },
        "id": "enOI4kOwt_Ri",
        "outputId": "05ef7fb4-13f8-451e-ceeb-d98410cc47f7"
      },
      "execution_count": 5,
      "outputs": [
        {
          "output_type": "stream",
          "name": "stdout",
          "text": [
            "7513\n"
          ]
        }
      ]
    },
    {
      "cell_type": "markdown",
      "source": [
        "4. **Dada uma lista de palavras, crie uma nova lista com o comprimento de cada palavra.**"
      ],
      "metadata": {
        "id": "JyYNKe2AuOvi"
      }
    },
    {
      "cell_type": "code",
      "source": [
        "palavras = ['balsdda', 'paralelepipedo', 'pneumoultramicroscopticosilicovulcanocaniotico', 'atum']\n",
        "tamanhos = []\n",
        "\n",
        "for plv in palavras:\n",
        "  tamanhos.append(len(plv))\n",
        "\n",
        "print(tamanhos)"
      ],
      "metadata": {
        "colab": {
          "base_uri": "https://localhost:8080/"
        },
        "id": "gYIRiQQ7v06z",
        "outputId": "34e5a92c-b917-46c4-a639-3ebe6e65e918"
      },
      "execution_count": 11,
      "outputs": [
        {
          "output_type": "stream",
          "name": "stdout",
          "text": [
            "[7, 14, 46, 4]\n"
          ]
        }
      ]
    },
    {
      "cell_type": "markdown",
      "source": [
        "5. **Crie uma lista com os quadrados dos números de 1 a 5.**"
      ],
      "metadata": {
        "id": "Io_jab8zu32q"
      }
    },
    {
      "cell_type": "code",
      "source": [
        "numeros = [1, 2, 3, 4, 5]\n",
        "quadrados = []\n",
        "for num in numeros:\n",
        "  quadrados.append(pow(num, 2))\n",
        "\n",
        "print(quadrados)"
      ],
      "metadata": {
        "colab": {
          "base_uri": "https://localhost:8080/"
        },
        "id": "E9WZ5-V-u7B6",
        "outputId": "498e978d-41a2-4ef5-8d96-d2821d1ccb96"
      },
      "execution_count": 6,
      "outputs": [
        {
          "output_type": "stream",
          "name": "stdout",
          "text": [
            "[1, 4, 9, 16, 25]\n"
          ]
        }
      ]
    },
    {
      "cell_type": "markdown",
      "source": [
        "6. **Dada uma lista de nomes, verifique se um nome específico está presente nela.**"
      ],
      "metadata": {
        "id": "iCYPPuPqv370"
      }
    },
    {
      "cell_type": "code",
      "source": [
        "nomes = ['pedro', 'guilherme', 'gabriel', 'sugaw(v)ara']\n",
        "\n",
        "for nome in nomes:\n",
        "  if nome == 'sugaw(v)ara':\n",
        "    print('O nome sugaw(v)ara existe')"
      ],
      "metadata": {
        "colab": {
          "base_uri": "https://localhost:8080/"
        },
        "id": "X82ORNwTv_nR",
        "outputId": "06da3724-b8df-4982-897d-9f0304554d46"
      },
      "execution_count": 9,
      "outputs": [
        {
          "output_type": "stream",
          "name": "stdout",
          "text": [
            "O nome sugaw(v)ara existe\n"
          ]
        }
      ]
    },
    {
      "cell_type": "markdown",
      "source": [
        "7. **Crie uma lista com os valores pares e outra com os ímpares de 1 a 10**"
      ],
      "metadata": {
        "id": "qXSP3fraxebL"
      }
    },
    {
      "cell_type": "code",
      "source": [
        "numeros = [1, 2, 3, 4, 5, 6, 7, 8, 9, 10]\n",
        "pares = []\n",
        "impares = []\n",
        "for i in range(2, 11,2):\n",
        "  pares.append(i)\n",
        "\n",
        "for i in range(1, 11,2):\n",
        "  impares.append(i)\n",
        "\n",
        "print(pares)\n",
        "print(impares)\n"
      ],
      "metadata": {
        "colab": {
          "base_uri": "https://localhost:8080/"
        },
        "id": "RGquzodYx3_h",
        "outputId": "22b665c5-aba6-460c-a777-e059debfcad7"
      },
      "execution_count": 12,
      "outputs": [
        {
          "output_type": "stream",
          "name": "stdout",
          "text": [
            "[2, 4, 6, 8, 10]\n",
            "[1, 3, 5, 7, 9]\n"
          ]
        }
      ]
    },
    {
      "cell_type": "markdown",
      "source": [
        "8. **Dada uma lista de números, substitua todos os valores pares por zero.**"
      ],
      "metadata": {
        "id": "33N2oEqPy9ky"
      }
    },
    {
      "cell_type": "code",
      "source": [
        "numeros = [i for i in range(1, 21)]\n",
        "\n",
        "for i in range(len(numeros)):\n",
        "    if numeros[i] % 2 == 0:\n",
        "        numeros[i] = 0\n",
        "\n",
        "print(numeros)"
      ],
      "metadata": {
        "colab": {
          "base_uri": "https://localhost:8080/"
        },
        "id": "E7swhKGxy8dc",
        "outputId": "06b2a8a4-4d98-46ab-ce55-fd3aab7a4474"
      },
      "execution_count": 19,
      "outputs": [
        {
          "output_type": "stream",
          "name": "stdout",
          "text": [
            "[1, 0, 3, 0, 5, 0, 7, 0, 9, 0, 11, 0, 13, 0, 15, 0, 17, 0, 19, 0]\n"
          ]
        }
      ]
    },
    {
      "cell_type": "markdown",
      "source": [
        "9. **Dada uma lista de strings, ordene-a em ordem alfabética**"
      ],
      "metadata": {
        "id": "umVDmVf91cVv"
      }
    },
    {
      "cell_type": "code",
      "source": [
        "strings = [\"Cachorro\", \"Gato\", \"Carro\", \"Mesa\", \"Computador\"]\n",
        "\n",
        "strings.sort()\n",
        "print(strings)"
      ],
      "metadata": {
        "colab": {
          "base_uri": "https://localhost:8080/"
        },
        "id": "l1zoyXFT1eMP",
        "outputId": "4e14a50d-0c7a-491e-d96c-3b98fe643646"
      },
      "execution_count": 22,
      "outputs": [
        {
          "output_type": "stream",
          "name": "stdout",
          "text": [
            "['Cachorro', 'Carro', 'Computador', 'Gato', 'Mesa']\n"
          ]
        }
      ]
    },
    {
      "cell_type": "markdown",
      "source": [
        "10. **Crie uma lista reversa dos números de 1 a 5**"
      ],
      "metadata": {
        "id": "2pLdlznc2TWx"
      }
    },
    {
      "cell_type": "code",
      "source": [
        "numeros = [i for i in range(1, 6)]\n",
        "\n",
        "numeros.sort(reverse=True)\n",
        "\n",
        "print(numeros)"
      ],
      "metadata": {
        "colab": {
          "base_uri": "https://localhost:8080/"
        },
        "id": "vdD2ZH1G2VRy",
        "outputId": "cbe5078a-28c2-4c6a-9f49-1be669131fc3"
      },
      "execution_count": 23,
      "outputs": [
        {
          "output_type": "stream",
          "name": "stdout",
          "text": [
            "[5, 4, 3, 2, 1]\n"
          ]
        }
      ]
    },
    {
      "cell_type": "markdown",
      "source": [
        "11. **Dada uma lista de números, remova os duplicados**"
      ],
      "metadata": {
        "id": "DalmAnqk20ni"
      }
    },
    {
      "cell_type": "code",
      "source": [
        "numeros = [ 1, 1, 4, 5, 6, 3, 7, 1, 45, 8, 3, 7]\n",
        "\n",
        "numeros_sem_repeticao = list(set(numeros))\n",
        "\n",
        "print(numeros_sem_repeticao)"
      ],
      "metadata": {
        "colab": {
          "base_uri": "https://localhost:8080/"
        },
        "id": "S2mT_ui023DS",
        "outputId": "793c985c-c578-46a4-d723-6dd457003a59"
      },
      "execution_count": 26,
      "outputs": [
        {
          "output_type": "stream",
          "name": "stdout",
          "text": [
            "[1, 3, 4, 5, 6, 7, 8, 45]\n"
          ]
        }
      ]
    },
    {
      "cell_type": "markdown",
      "source": [
        "12. **Crie uma lista com os cubos dos números de 1 a 5.**"
      ],
      "metadata": {
        "id": "DB1y8MyY4X8D"
      }
    },
    {
      "cell_type": "code",
      "source": [
        "numeros = [1, 2, 3, 4, 5]\n",
        "cubos = []\n",
        "for num in numeros:\n",
        "  cubos.append(pow(num, 3))\n",
        "\n",
        "print(cubos)"
      ],
      "metadata": {
        "colab": {
          "base_uri": "https://localhost:8080/"
        },
        "id": "g8zUEDCO4ZVy",
        "outputId": "d2219c19-063b-4344-99bd-c6b2fd2d6fb9"
      },
      "execution_count": 27,
      "outputs": [
        {
          "output_type": "stream",
          "name": "stdout",
          "text": [
            "[1, 8, 27, 64, 125]\n"
          ]
        }
      ]
    },
    {
      "cell_type": "markdown",
      "source": [
        "13.Dada uma lista de palavras, crie uma nova lista apenas com as palavras que começam com a letra 'A'."
      ],
      "metadata": {
        "id": "UKDoRU-N4kFL"
      }
    },
    {
      "cell_type": "code",
      "source": [
        "lista_de_paises = [\"Brasil\", \"Estados Unidos\", \"França\", \"Japão\", \"Austrália\"]\n",
        "\n",
        "paises_com_a = [pais for pais in lista_de_paises if pais.startswith('A')]\n",
        "\n",
        "print(paises_com_a)\n"
      ],
      "metadata": {
        "colab": {
          "base_uri": "https://localhost:8080/"
        },
        "id": "UQxTVRuH4w5f",
        "outputId": "34669ed3-ade7-45f5-9b46-e5ab1090b8e5"
      },
      "execution_count": 28,
      "outputs": [
        {
          "output_type": "stream",
          "name": "stdout",
          "text": [
            "['Austrália']\n"
          ]
        }
      ]
    },
    {
      "cell_type": "markdown",
      "source": [
        "14. **Dada uma lista de números, calcule a média**"
      ],
      "metadata": {
        "id": "bwibbkpf6S5Y"
      }
    },
    {
      "cell_type": "code",
      "source": [
        "import random\n",
        "\n",
        "# Define o tamanho da lista e o intervalo dos números\n",
        "tamanho_lista = 10\n",
        "intervalo_numeros = range(1, 21)\n",
        "\n",
        "# Gera uma lista de números aleatórios com alguns números repetidos\n",
        "lista_de_numeros = random.sample(intervalo_numeros, tamanho_lista)\n",
        "soma = 0\n",
        "for num in lista_de_numeros:\n",
        "  soma = soma + num\n",
        "\n",
        "media = soma/tamanho_lista\n",
        "\n",
        "print(lista_de_numeros, '-> media:', media)\n",
        "\n",
        "\n"
      ],
      "metadata": {
        "colab": {
          "base_uri": "https://localhost:8080/"
        },
        "id": "3MOKSPH07D5i",
        "outputId": "20d3ab4e-7c23-4318-f45c-472077b85bdc"
      },
      "execution_count": 30,
      "outputs": [
        {
          "output_type": "stream",
          "name": "stdout",
          "text": [
            "[4, 7, 2, 18, 15, 16, 12, 1, 6, 10] -> media: 9.1\n"
          ]
        }
      ]
    }
  ]
}